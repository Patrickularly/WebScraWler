{
 "cells": [
  {
   "cell_type": "code",
   "execution_count": 26,
   "metadata": {},
   "outputs": [],
   "source": [
    "import requests\n",
    "from bs4 import BeautifulSoup\n",
    "import time\n",
    "import random\n",
    "from selenium import webdriver\n",
    "import csv"
   ]
  },
  {
   "cell_type": "markdown",
   "metadata": {},
   "source": [
    "I will crawl 'https://www.tapology.com/rankings' to gather all linked pages with fighter stats per year."
   ]
  },
  {
   "cell_type": "code",
   "execution_count": 2,
   "metadata": {},
   "outputs": [
    {
     "data": {
      "text/plain": [
       "['https://www.tapology.com/rankings/current-top-ten-best-pound-for-pound-mma-and-ufc-fighters',\n",
       " 'https://www.tapology.com/rankings/current-top-ten-heavyweight-mma-fighters-265-pounds',\n",
       " 'https://www.tapology.com/rankings/current-top-ten-light-heavyweight-mma-fighters-205-pounds',\n",
       " 'https://www.tapology.com/rankings/current-top-ten-middleweight-mma-fighters-185-pounds',\n",
       " 'https://www.tapology.com/rankings/current-top-ten-welterweight-mma-fighters-170-pounds',\n",
       " 'https://www.tapology.com/rankings/current-top-ten-lightweight-mma-fighters-155-pounds',\n",
       " 'https://www.tapology.com/rankings/current-top-ten-featherweight-mma-fighters-145-pounds',\n",
       " 'https://www.tapology.com/rankings/current-top-ten-bantamweight-mma-fighters-135-pounds',\n",
       " 'https://www.tapology.com/rankings/35-top-flyweight-mma-fighters',\n",
       " 'https://www.tapology.com/rankings/1261-top-women-bantamweight-fighters',\n",
       " 'https://www.tapology.com/rankings/1262-top-women-flyweight-fighters',\n",
       " 'https://www.tapology.com/rankings/1263-top-women-strawweight-fighters',\n",
       " 'https://www.tapology.com/rankings/1264-top-women-atomweight-fighters',\n",
       " 'https://www.tapology.com/rankings/1265-top-women-featherweight-fighters']"
      ]
     },
     "execution_count": 2,
     "metadata": {},
     "output_type": "execute_result"
    }
   ],
   "source": [
    "base_url = 'https://www.tapology.com/rankings/groups/current'\n",
    "urls = []\n",
    "\n",
    "response = requests.get(base_url)\n",
    "soup = BeautifulSoup(response.content, 'html.parser')\n",
    "\n",
    "page_links = soup.select('a[href]')\n",
    "\n",
    "for link in page_links:\n",
    "    url = link['href']\n",
    "    prefix = 'https://www.tapology.com'\n",
    "    final_url = prefix + url\n",
    "    if \"-top-\" in url:\n",
    "        if '?page=' not in final_url:\n",
    "            if final_url not in base_url:\n",
    "                urls.append(final_url)\n"
   ]
  },
  {
   "cell_type": "markdown",
   "metadata": {},
   "source": [
    "The first link is not necessary for our purpose and therefore will be removed from the list."
   ]
  },
  {
   "cell_type": "code",
   "execution_count": 3,
   "metadata": {},
   "outputs": [
    {
     "data": {
      "text/plain": [
       "'https://www.tapology.com/rankings/current-top-ten-best-pound-for-pound-mma-and-ufc-fighters'"
      ]
     },
     "execution_count": 3,
     "metadata": {},
     "output_type": "execute_result"
    }
   ],
   "source": [
    "urls.pop(0)"
   ]
  },
  {
   "cell_type": "markdown",
   "metadata": {},
   "source": [
    "Now I can proceed to gather the stats of the top 10 fighters within each weight class."
   ]
  },
  {
   "cell_type": "code",
   "execution_count": 8,
   "metadata": {},
   "outputs": [],
   "source": [
    "fighter_page_list = []\n",
    "\n",
    "for url in urls:\n",
    "    response = requests.get(url)\n",
    "    soup = BeautifulSoup(response.content, 'html.parser')\n",
    "    \n",
    "    rankings = soup.find_all(class_=\"rankingItemsItemRank\")\n",
    "    divs = soup.find_all('div', class_='rankingItemsItemRow name')    \n",
    "    prefix = 'https://www.tapology.com'\n",
    "\n",
    "    fighter_count = 0\n",
    "    for rank, div in zip(rankings, divs):\n",
    "        rank_number = int(rank.text.strip())\n",
    "        if rank_number < 11 and fighter_count < 10:\n",
    "            a_tag = div.find('h1', class_='name').find('a')\n",
    "\n",
    "            if a_tag:\n",
    "                full_link = prefix + a_tag['href']\n",
    "                fighter_page_list.append(full_link)\n",
    "                fighter_count += 1 \n",
    "\n",
    "        if fighter_count >= 10:\n",
    "            break"
   ]
  },
  {
   "cell_type": "code",
   "execution_count": null,
   "metadata": {},
   "outputs": [],
   "source": [
    "def safe_get_text(tag, key):\n",
    "    result = tag.find('strong', text=key)\n",
    "    return result.find_next_sibling('span').text.strip() if result and result.find_next_sibling('span') else 'N/A'\n",
    "\n",
    "driver = webdriver.Safari()\n",
    "\n",
    "fighter_list = []\n",
    "\n",
    "for fighter in fighter_page_list:\n",
    "    driver.get(fighter)\n",
    "    time.sleep(2)\n",
    "\n",
    "    page_source = driver.page_source\n",
    "    content = BeautifulSoup(page_source, 'html.parser')\n",
    "\n",
    "    h1_tag = content.find_all('h1')\n",
    "    if h1_tag:\n",
    "        name = h1_tag[1].text.strip()\n",
    "\n",
    "    nickname = safe_get_text(content, 'Nickname:')\n",
    "    record = safe_get_text(content, 'Pro MMA Record:')\n",
    "    earnings = safe_get_text(content, 'Career Disclosed Earnings:')\n",
    "    height = safe_get_text(content, 'Height:')\n",
    "    reach = safe_get_text(content, '| Reach:')\n",
    "    weight_class = safe_get_text(content, 'Weight Class:')\n",
    "    dob = safe_get_text(content, '| Date of Birth:')\n",
    "    nationality = safe_get_text(content, 'Born:')\n",
    "    age = safe_get_text(content, 'Age:')\n",
    "    last_weight = safe_get_text(content, '| Last Weigh-In:')\n",
    "\n",
    "    block = f'name: {name}, nickname: {nickname}, age: {age}, born: {dob}, nationality: {nationality}, record: {record}, earnings_$: {earnings}, height: {height}, reach: {reach}, weight: {last_weight}, weight_class: {weight_class}'\n",
    "    \n",
    "    fighter_list.append([block])\n",
    "\n",
    "    time.sleep(random.randint(0, 7))\n",
    "\n",
    "driver.quit()"
   ]
  },
  {
   "cell_type": "code",
   "execution_count": 25,
   "metadata": {},
   "outputs": [
    {
     "data": {
      "text/plain": [
       "[['name: Tom Aspinall, nickname: N/A, age: 31, born: 1993.04.11, nationality: Salford, England, record: 15-3-0 (Win-Loss-Draw), earnings_$: $400,000 USD, height: 6\\'5\" (196cm), reach: 78.0\" (198cm), weight: 251.0 lbs, weight_class: Heavyweight'],\n",
       " ['name: Alexander Volkov, nickname: Drago, age: 35, born: 1988.10.24, nationality: Russia, record: 38-10-0 (Win-Loss-Draw), earnings_$: $315,000 USD, height: 6\\'7\" (201cm), reach: 80.0\" (203cm), weight: 258.0 lbs, weight_class: Heavyweight'],\n",
       " ['name: Jon Jones, nickname: Bones, age: 37, born: 1987.07.19, nationality: Rochester, New York, United States, record: 27-1-0, 1 NC (Win-Loss-Draw), earnings_$: $4,568,000 USD, height: 6\\'4\" (194cm), reach: 84.5\" (215cm), weight: 248.0 lbs, weight_class: Heavyweight'],\n",
       " ['name: Curtis Blaydes, nickname: Razor, age: 33, born: 1991.02.18, nationality: Naperville, Illinois, record: 18-5-0, 1 NC (Win-Loss-Draw), earnings_$: $700,000 USD, height: 6\\'4\" (193cm), reach: 80.0\" (203cm), weight: 256.0 lbs, weight_class: Heavyweight'],\n",
       " ['name: Ciryl Gane, nickname: Bon Gamin, age: 34, born: 1990.04.12, nationality: La Roche-Sur-Yon, Vendee, France, record: 12-2-0 (Win-Loss-Draw), earnings_$: $700,000 USD, height: 6\\'4\" (193cm), reach: 81.0\" (206cm), weight: 250.0 lbs, weight_class: Heavyweight'],\n",
       " ['name: Jailton Almeida, nickname: Malhadinho, age: 33, born: 1991.06.28, nationality: Salvador, Bahia, Brazil, record: 21-3-0 (Win-Loss-Draw), earnings_$: $150,000 USD, height: 6\\'3\" (191cm), reach: 79.0\" (201cm), weight: 241.0 lbs, weight_class: Heavyweight'],\n",
       " ['name: Sergei Pavlovich, nickname: N/A, age: 32, born: 1992.05.13, nationality: Orlovsky, Rostov, Russia, record: 18-3-0 (Win-Loss-Draw), earnings_$: $200,000 USD, height: 6\\'3\" (191cm), reach: 84.0\" (213cm), weight: 260.0 lbs, weight_class: Heavyweight'],\n",
       " ['name: Serghei Spivac, nickname: Polar Bear, age: 29, born: 1995.01.24, nationality: Chisinau, Republic of Moldova, record: 17-4-0 (Win-Loss-Draw), earnings_$: $114,000 USD, height: 6\\'3\" (190cm), reach: 78.0\" (198cm), weight: 238.0 lbs, weight_class: Heavyweight'],\n",
       " ['name: Marcin Tybura, nickname: Tybur, age: 38, born: 1985.11.09, nationality: Uniejów, Poland, record: 25-9-0 (Win-Loss-Draw), earnings_$: $648,000 USD, height: 6\\'3\" (191cm), reach: 78.0\" (198cm), weight: 252.0 lbs, weight_class: Heavyweight'],\n",
       " ['name: Derrick Lewis, nickname: The Black Beast, age: 39, born: 1985.02.07, nationality: United States, record: 28-12-0, 1 NC (Win-Loss-Draw), earnings_$: $1,112,000 USD, height: 6\\'3\" (191cm), reach: 79.0\" (201cm), weight: 264.0 lbs, weight_class: Heavyweight'],\n",
       " ['name: Magomed Ankalaev, nickname: N/A, age: 32, born: 1992.06.02, nationality: Dagestan, Russia, record: 19-1-1, 1 NC (Win-Loss-Draw), earnings_$: $266,000 USD, height: 6\\'3\" (191cm), reach: 75.0\" (191cm), weight: 204.5 lbs, weight_class: Light Heavyweight'],\n",
       " ['name: Alex Pereira, nickname: Poatan, age: 37, born: 1987.07.07, nationality: São Bernardo do Campo, São Paulo, Brazil, record: 11-2-0 (Win-Loss-Draw), earnings_$: $250,000 USD, height: 6\\'4\" (194cm), reach: 80.0\" (203cm), weight: 204.5 lbs, weight_class: Light Heavyweight'],\n",
       " ['name: Jiří Procházka, nickname: BJP, age: 31, born: 1992.10.14, nationality: Hosteradice, Czech Republic, record: 30-5-1 (Win-Loss-Draw), earnings_$: $500,000 USD, height: 6\\'3\" (191cm), reach: 80.0\" (203cm), weight: 204.5 lbs, weight_class: Light Heavyweight'],\n",
       " ['name: Jan Błachowicz, nickname: N/A, age: 41, born: 1983.02.24, nationality: Cieszyn, Poland, record: 29-10-1 (Win-Loss-Draw), earnings_$: $429,000 USD, height: 6\\'2\" (188cm), reach: 78.0\" (198cm), weight: 205.0 lbs, weight_class: Light Heavyweight'],\n",
       " ['name: Jamahal Hill, nickname: Sweet Dreams, age: 33, born: 1991.05.19, nationality: United States, record: 12-2-0, 1 NC (Win-Loss-Draw), earnings_$: $224,000 USD, height: 6\\'4\" (193cm), reach: 79.0\" (201cm), weight: 205.0 lbs, weight_class: Light Heavyweight'],\n",
       " ['name: Aleksandar Rakić, nickname: Rocket, age: 32, born: 1992.02.06, nationality: Austria, record: 14-4-0 (Win-Loss-Draw), earnings_$: $50,000 USD, height: 6\\'4\" (194cm), reach: 78.0\" (198cm), weight: 206.0 lbs, weight_class: Light Heavyweight'],\n",
       " ['name: Khalil Rountree Jr., nickname: The War Horse, age: 34, born: 1990.02.06, nationality: Los Angeles, California, record: 13-5-0, 1 NC (Win-Loss-Draw), earnings_$: $342,000 USD, height: 6\\'1\" (185cm), reach: 76.5\" (194cm), weight: 204.0 lbs, weight_class: Light Heavyweight'],\n",
       " ['name: Volkan Oezdemir, nickname: No Time, age: 34, born: 1989.09.19, nationality: Fribourg, Switzerland, record: 20-7-0 (Win-Loss-Draw), earnings_$: $614,000 USD, height: 6\\'2\" (188cm), reach: 75.0\" (191cm), weight: 206.0 lbs, weight_class: Light Heavyweight'],\n",
       " ['name: Nikita Krylov, nickname: The Miner, age: 32, born: 1992.07.03, nationality: Donetsk, Ukraine, record: 30-9-0 (Win-Loss-Draw), earnings_$: $266,000 USD, height: 6\\'3\" (191cm), reach: 77.5\" (197cm), weight: 213.0 lbs, weight_class: Light Heavyweight'],\n",
       " ['name: Azamat Murzakanov, nickname: The Professional, age: 35, born: 1989.04.12, nationality: Nalchik, Russia, record: 14-0-0 (Win-Loss-Draw), earnings_$: $124,000 USD, height: 5\\'10\" (179cm), reach: 71.5\" (182cm), weight: 205.0 lbs, weight_class: Light Heavyweight'],\n",
       " ['name: Sean Strickland, nickname: Tarzan, age: 33, born: 1991.02.27, nationality: United States, record: 29-6-0 (Win-Loss-Draw), earnings_$: $344,000 USD, height: 6\\'1\" (185cm), reach: 76.0\" (193cm), weight: 185.0 lbs, weight_class: Middleweight'],\n",
       " ['name: Israel Adesanya, nickname: The Last Stylebender, age: 35, born: 1989.07.22, nationality: Lagos, Nigeria, record: 24-4-0 (Win-Loss-Draw), earnings_$: $1,468,000 USD, height: 6\\'4\" (193cm), reach: 80.0\" (203cm), weight: 184.0 lbs, weight_class: Middleweight'],\n",
       " ['name: Dricus Du Plessis, nickname: Stillknocks, age: 30, born: 1994.01.14, nationality: South Africa, record: 22-2-0 (Win-Loss-Draw), earnings_$: $227,000 USD, height: 6\\'1\" (185cm), reach: 76.0\" (193cm), weight: 185.0 lbs, weight_class: Middleweight'],\n",
       " ['name: Robert Whittaker, nickname: The Reaper, age: 33, born: 1990.12.20, nationality: New Zealand, record: 26-7-0 (Win-Loss-Draw), earnings_$: $905,000 USD, height: 6\\'0\" (182cm), reach: 73.5\" (187cm), weight: 186.0 lbs, weight_class: Middleweight'],\n",
       " ['name: Nassourdine Imavov, nickname: Russian Sniper, age: 28, born: 1996.03.01, nationality: Dagestan, Russia, record: 14-4-0, 1 NC (Win-Loss-Draw), earnings_$: $0 USD, height: 6\\'3\" (191cm), reach: 75.0\" (191cm), weight: 185.0 lbs, weight_class: Middleweight'],\n",
       " ['name: Caio Borralho, nickname: The Natural, age: 31, born: 1993.01.16, nationality: Sao Luis, Maranhao, Brazil, record: 17-1-0, 1 NC (Win-Loss-Draw), earnings_$: $150,000 USD, height: 6\\'1\" (187cm), reach: 75.0\" (191cm), weight: 186.0 lbs, weight_class: Middleweight'],\n",
       " ['name: Jared Cannonier, nickname: Killa Gorilla, age: 40, born: 1984.03.16, nationality: United States, record: 17-8-0 (Win-Loss-Draw), earnings_$: $482,000 USD, height: 5\\'11\" (180cm), reach: 77.5\" (197cm), weight: 184.0 lbs, weight_class: Middleweight'],\n",
       " ['name: Khamzat Chimaev, nickname: Borz, age: 30, born: 1994.05.01, nationality: Beno-Yurt, Chechnya, Russia, record: 13-0-0 (Win-Loss-Draw), earnings_$: $250,000 USD, height: 6\\'2\" (188cm), reach: 75.0\" (191cm), weight: 185.5 lbs, weight_class: Middleweight'],\n",
       " ['name: Brendan Allen, nickname: All In, age: 28, born: 1995.12.28, nationality: Beaufort, South Carolina, USA, record: 24-5-0 (Win-Loss-Draw), earnings_$: $202,000 USD, height: 6\\'2\" (188cm), reach: 75.0\" (191cm), weight: 186.0 lbs, weight_class: Middleweight'],\n",
       " ['name: Marvin Vettori, nickname: The Italian Dream, age: 30, born: 1993.09.20, nationality: Mezzocorona, Italy, record: 19-6-1 (Win-Loss-Draw), earnings_$: $393,000 USD, height: 6\\'0\" (183cm), reach: 74.0\" (188cm), weight: 185.5 lbs, weight_class: Middleweight'],\n",
       " ['name: Belal Muhammad, nickname: Remember the Name, age: 36, born: 1988.07.09, nationality: Chicago, Illinois, United States, record: 24-3-0, 1 NC (Win-Loss-Draw), earnings_$: $372,000 USD, height: 5\\'11\" (180cm), reach: 72.0\" (183cm), weight: 169.0 lbs, weight_class: Welterweight'],\n",
       " ['name: Leon Edwards, nickname: Rocky, age: 33, born: 1991.08.25, nationality: Kingston, Jamaica, record: 22-4-0, 1 NC (Win-Loss-Draw), earnings_$: $465,000 USD, height: 6\\'2\" (188cm), reach: 74.0\" (188cm), weight: 170.0 lbs, weight_class: Welterweight'],\n",
       " ['name: Shavkat Rakhmonov, nickname: Nomad, age: 29, born: 1994.10.23, nationality: Uzbekistan, record: 18-0-0 (Win-Loss-Draw), earnings_$: $150,000 USD, height: 6\\'1\" (185cm), reach: 77.0\" (196cm), weight: 171.0 lbs, weight_class: Welterweight'],\n",
       " ['name: Gilbert Burns, nickname: Durinho, age: 38, born: 1986.07.20, nationality: Niteroi, Rio de Janeiro, Brazil, record: 22-8-0 (Win-Loss-Draw), earnings_$: $643,000 USD, height: 5\\'10\" (178cm), reach: 71.0\" (180cm), weight: 171.0 lbs, weight_class: Welterweight'],\n",
       " ['name: Jack Della Maddalena, nickname: N/A, age: 27, born: 1996.09.10, nationality: Australia, record: 17-2-0 (Win-Loss-Draw), earnings_$: $270,000 USD, height: 5\\'11\" (180cm), reach: 73.0\" (185cm), weight: 170.0 lbs, weight_class: Welterweight'],\n",
       " ['name: Ian Machado Garry, nickname: The Future, age: 26, born: 1997.11.17, nationality: Ireland, record: 15-0-0 (Win-Loss-Draw), earnings_$: $50,000 USD, height: 6\\'3\" (191cm), reach: 74.0\" (188cm), weight: 170.0 lbs, weight_class: Welterweight'],\n",
       " ['name: Stephen Thompson, nickname: Wonderboy, age: 41, born: 1983.02.11, nationality: Simpsonville, South Carolina, United States, record: 17-7-1 (Win-Loss-Draw), earnings_$: $981,000 USD, height: 6\\'0\" (183cm), reach: 75.0\" (191cm), weight: 171.0 lbs, weight_class: Welterweight'],\n",
       " ['name: Sean Brady, nickname: N/A, age: 31, born: 1992.11.23, nationality: Philadelphia, Pennsylvania, United States, record: 17-1-0 (Win-Loss-Draw), earnings_$: $124,000 USD, height: 5\\'10\" (178cm), reach: 72.5\" (184cm), weight: 171.0 lbs, weight_class: Welterweight'],\n",
       " ['name: Colby Covington, nickname: Chaos, age: 36, born: 1988.02.22, nationality: United States, record: 17-4-0 (Win-Loss-Draw), earnings_$: $738,000 USD, height: 5\\'11\" (180cm), reach: 72.0\" (183cm), weight: 169.5 lbs, weight_class: Welterweight'],\n",
       " ['name: Geoff Neal, nickname: Handz of Steel, age: 34, born: 1990.08.28, nationality: Austin, Texas, record: 15-6-0 (Win-Loss-Draw), earnings_$: $222,000 USD, height: 5\\'11\" (180cm), reach: 75.0\" (191cm), weight: 170.5 lbs, weight_class: Welterweight'],\n",
       " ['name: Islam Makhachev, nickname: N/A, age: 32, born: 1991.10.27, nationality: Makhachkala, Dagestan, Russia, record: 26-1-0 (Win-Loss-Draw), earnings_$: $352,000 USD, height: 5\\'10\" (178cm), reach: 70.5\" (179cm), weight: 155.0 lbs, weight_class: Lightweight'],\n",
       " ['name: Charles Oliveira, nickname: do Bronx, age: 34, born: 1989.10.17, nationality: Guaruja, Sao Paulo, Brazil, record: 34-10-0, 1 NC (Win-Loss-Draw), earnings_$: $1,347,600 USD, height: 5\\'10\" (178cm), reach: 74.0\" (188cm), weight: 156.0 lbs, weight_class: Lightweight'],\n",
       " ['name: Arman Tsarukyan, nickname: Ahalkalakets, age: 27, born: 1996.10.11, nationality: Armenia, record: 22-3-0 (Win-Loss-Draw), earnings_$: $250,000 USD, height: 5\\'7\" (170cm), reach: 72.5\" (184cm), weight: 156.0 lbs, weight_class: Lightweight'],\n",
       " ['name: Justin Gaethje, nickname: The Highlight, age: 35, born: 1988.11.14, nationality: Safford, Arizona, United States, record: 25-5-0 (Win-Loss-Draw), earnings_$: $1,662,000 USD, height: 5\\'11\" (181cm), reach: 70.0\" (178cm), weight: 156.0 lbs, weight_class: Lightweight'],\n",
       " ['name: Dustin Poirier, nickname: The Diamond, age: 35, born: 1989.01.19, nationality: Lafayette, Louisiana, United States, record: 30-9-0, 1 NC (Win-Loss-Draw), earnings_$: $2,106,000 USD, height: 5\\'9\" (175cm), reach: 73.0\" (185cm), weight: 155.0 lbs, weight_class: Lightweight'],\n",
       " ['name: Mateusz Gamrot, nickname: Gamer, age: 33, born: 1990.12.11, nationality: Poland, record: 24-3-0, 1 NC (Win-Loss-Draw), earnings_$: $252,000 USD, height: 5\\'10\" (177cm), reach: 70.5\" (179cm), weight: 156.0 lbs, weight_class: Lightweight'],\n",
       " ['name: Dan Hooker, nickname: The Hangman, age: 34, born: 1990.02.13, nationality: Auckland, New Zealand, record: 24-12-0 (Win-Loss-Draw), earnings_$: $593,000 USD, height: 6\\'0\" (183cm), reach: 75.5\" (192cm), weight: 155.0 lbs, weight_class: Lightweight'],\n",
       " ['name: Rafael Fiziev, nickname: Ataman, age: 31, born: 1993.03.05, nationality: Kazakhstan, record: 12-3-0 (Win-Loss-Draw), earnings_$: $300,000 USD, height: 5\\'8\" (173cm), reach: 71.5\" (182cm), weight: 156.0 lbs, weight_class: Lightweight'],\n",
       " ['name: Beneil Dariush, nickname: Benny, age: 35, born: 1989.05.06, nationality: Urmia, Iran, record: 22-6-1 (Win-Loss-Draw), earnings_$: $612,000 USD, height: 5\\'10\" (178cm), reach: 72.0\" (183cm), weight: 156.0 lbs, weight_class: Lightweight'],\n",
       " ['name: Renato Moicano, nickname: Money Moicano, age: 35, born: 1989.05.21, nationality: Brazil, record: 19-5-1 (Win-Loss-Draw), earnings_$: $175,000 USD, height: 5\\'11\" (181cm), reach: 72.0\" (183cm), weight: 156.0 lbs, weight_class: Lightweight'],\n",
       " ['name: Ilia Topuria, nickname: El Matador, age: 27, born: 1997.01.21, nationality: Halle Westfalen, Germany, record: 15-0-0 (Win-Loss-Draw), earnings_$: $200,000 USD, height: 5\\'7\" (170cm), reach: 69.0\" (175cm), weight: 144.5 lbs, weight_class: Featherweight'],\n",
       " ['name: Movsar Evloev, nickname: N/A, age: 30, born: 1994.02.11, nationality: Russia, Sunzha, record: 18-0-0 (Win-Loss-Draw), earnings_$: $50,000 USD, height: 5\\'7\" (170cm), reach: 72.5\" (184cm), weight: 145.8 lbs, weight_class: Featherweight'],\n",
       " ['name: Arnold Allen, nickname: Almighty, age: 30, born: 1994.01.22, nationality: Suffolk, England, record: 20-3-0 (Win-Loss-Draw), earnings_$: $214,000 USD, height: 5\\'8\" (173cm), reach: 70.0\" (178cm), weight: 145.0 lbs, weight_class: Featherweight'],\n",
       " ['name: Yair Rodriguez, nickname: El Pantera, age: 31, born: 1992.10.06, nationality: Parral, Chihuahua, Mexico, record: 19-5-0, 1 NC (Win-Loss-Draw), earnings_$: $592,000 USD, height: 5\\'11\" (180cm), reach: 71.0\" (180cm), weight: 146.0 lbs, weight_class: Featherweight'],\n",
       " ['name: Aljamain Sterling, nickname: Funk Master, age: 35, born: 1989.07.31, nationality: United States, record: 24-4-0 (Win-Loss-Draw), earnings_$: $518,000 USD, height: 5\\'7\" (171cm), reach: 71.0\" (180cm), weight: 146.0 lbs, weight_class: Featherweight'],\n",
       " ['name: Josh Emmett, nickname: CC0, age: 39, born: 1985.03.04, nationality: United States, record: 19-4-0 (Win-Loss-Draw), earnings_$: $573,000 USD, height: 5\\'6\" (168cm), reach: 70.0\" (178cm), weight: 146.0 lbs, weight_class: Featherweight'],\n",
       " ['name: Brian Ortega, nickname: T-City, age: 33, born: 1991.02.21, nationality: Torrance, California, record: 16-3-0, 1 NC (Win-Loss-Draw), earnings_$: $796,000 USD, height: 5\\'8\" (173cm), reach: 69.0\" (175cm), weight: 146.0 lbs, weight_class: Featherweight'],\n",
       " ['name: Alexander Volkanovski, nickname: The Great, age: 35, born: 1988.09.29, nationality: Shellharbour, New South Wales, Australia, record: 26-4-0 (Win-Loss-Draw), earnings_$: $575,000 USD, height: 5\\'6\" (168cm), reach: 71.5\" (182cm), weight: 144.5 lbs, weight_class: Featherweight'],\n",
       " ['name: Lerone Murphy, nickname: The Miracle, age: 33, born: 1991.07.22, nationality: Manchester, Lancashire, record: 14-0-1 (Win-Loss-Draw), earnings_$: $100,000 USD, height: 5\\'9\" (175cm), reach: 73.5\" (187cm), weight: 146.0 lbs, weight_class: Featherweight'],\n",
       " ['name: Diego Lopes, nickname: N/A, age: 29, born: 1994.12.30, nationality: Manaus, Amazonas, Brazil, record: 25-6-0 (Win-Loss-Draw), earnings_$: $150,000 USD, height: 5\\'11\" (180cm), reach: 72.5\" (184cm), weight: 161.0 lbs, weight_class: Featherweight'],\n",
       " ['name: Sean O\\'Malley, nickname: Suga, age: 29, born: 1994.10.24, nationality: Helena, Montana, record: 18-1-0, 1 NC (Win-Loss-Draw), earnings_$: $699,000 USD, height: 5\\'11\" (180cm), reach: 72.0\" (183cm), weight: 135.0 lbs, weight_class: Bantamweight'],\n",
       " ['name: Merab Dvalishvili, nickname: The Machine, age: 33, born: 1991.01.10, nationality: Tbilisi, Georgia, record: 17-4-0 (Win-Loss-Draw), earnings_$: $354,000 USD, height: 5\\'6\" (168cm), reach: 68.0\" (173cm), weight: 135.0 lbs, weight_class: Bantamweight'],\n",
       " ['name: Umar Nurmagomedov, nickname: N/A, age: 28, born: 1996.01.03, nationality: Kizilyurt, Dagestan, Russia, record: 18-0-0 (Win-Loss-Draw), earnings_$: $100,000 USD, height: 5\\'8\" (172cm), reach: 69.0\" (175cm), weight: 135.0 lbs, weight_class: Bantamweight'],\n",
       " ['name: Petr Yan, nickname: No Mercy, age: 31, born: 1993.02.11, nationality: Russia, record: 17-5-0 (Win-Loss-Draw), earnings_$: $399,000 USD, height: 5\\'7\" (169cm), reach: 67.0\" (170cm), weight: 135.0 lbs, weight_class: Bantamweight'],\n",
       " ['name: Cory Sandhagen, nickname: Sandman, age: 32, born: 1992.04.20, nationality: United States, record: 17-5-0 (Win-Loss-Draw), earnings_$: $500,000 USD, height: 5\\'11\" (180cm), reach: 70.0\" (178cm), weight: 136.0 lbs, weight_class: Bantamweight'],\n",
       " ['name: Deiveson Figueiredo, nickname: Deus da Guerra, age: 36, born: 1987.12.18, nationality: Soure, Para, Brazil, record: 24-3-1 (Win-Loss-Draw), earnings_$: $505,000 USD, height: 5\\'5\" (165cm), reach: 68.0\" (173cm), weight: 135.0 lbs, weight_class: Bantamweight'],\n",
       " ['name: Yadong Song, nickname: Kung Fu Kid, age: 26, born: 1997.12.02, nationality: Haerbin, Heilongjiang, China, record: 21-8-1, 1 NC (Win-Loss-Draw), earnings_$: $486,000 USD, height: 5\\'8\" (173cm), reach: 67.0\" (170cm), weight: 136.0 lbs, weight_class: Bantamweight'],\n",
       " ['name: Marlon Vera, nickname: Chito, age: 31, born: 1992.12.02, nationality: Chone, Manabi, Ecuador, record: 23-10-1 (Win-Loss-Draw), earnings_$: $975,000 USD, height: 5\\'8\" (173cm), reach: 70.5\" (179cm), weight: 136.0 lbs, weight_class: Bantamweight'],\n",
       " ['name: Rob Font, nickname: N/A, age: 37, born: 1987.06.25, nationality: Tampa, Florida, record: 20-8-0 (Win-Loss-Draw), earnings_$: $543,000 USD, height: 5\\'8\" (173cm), reach: 71.5\" (182cm), weight: 135.0 lbs, weight_class: Bantamweight'],\n",
       " ['name: Kyler Phillips, nickname: The Matrix, age: 29, born: 1995.06.12, nationality: Torrance, California, record: 12-2-0 (Win-Loss-Draw), earnings_$: $170,000 USD, height: 5\\'8\" (173cm), reach: 72.0\" (183cm), weight: 135.0 lbs, weight_class: Bantamweight'],\n",
       " ['name: Alexandre Pantoja, nickname: The Cannibal, age: 34, born: 1990.04.16, nationality: Rio de Janeiro, Brazil, record: 28-5-0 (Win-Loss-Draw), earnings_$: $300,000 USD, height: 5\\'5\" (166cm), reach: 68.0\" (173cm), weight: 125.0 lbs, weight_class: Flyweight'],\n",
       " ['name: Brandon Moreno, nickname: The Assassin Baby, age: 30, born: 1993.12.07, nationality: Tijuana, Baja California, Mexico, record: 21-8-2 (Win-Loss-Draw), earnings_$: $656,000 USD, height: 5\\'7\" (170cm), reach: 70.0\" (178cm), weight: 126.0 lbs, weight_class: Flyweight'],\n",
       " ['name: Brandon Royval, nickname: Raw Dawg, age: 32, born: 1992.08.16, nationality: Denver, Colorado, record: 16-7-0 (Win-Loss-Draw), earnings_$: $224,000 USD, height: 5\\'9\" (175cm), reach: 70.5\" (179cm), weight: 126.0 lbs, weight_class: Flyweight'],\n",
       " ['name: Kai Kara-France, nickname: Don\\'t Blink, age: 31, born: 1993.03.26, nationality: New Zealand, record: 25-11-0, 1 NC (Win-Loss-Draw), earnings_$: $427,000 USD, height: 5\\'4\" (163cm), reach: 69.0\" (175cm), weight: 125.0 lbs, weight_class: Flyweight'],\n",
       " ['name: Amir Albazi, nickname: The Prince, age: 30, born: 1993.10.27, nationality: Baghdad, Iraq, record: 17-1-0 (Win-Loss-Draw), earnings_$: $32,000 USD, height: 5\\'5\" (165cm), reach: 68.0\" (173cm), weight: 126.0 lbs, weight_class: Flyweight'],\n",
       " ['name: Tatsuro Taira, nickname: N/A, age: 24, born: 2000.01.27, nationality: Naha, Okinawa, Japan, record: 16-0-0 (Win-Loss-Draw), earnings_$: $150,000 USD, height: 5\\'7\" (170cm), reach: 70.0\" (178cm), weight: 126.0 lbs, weight_class: Flyweight'],\n",
       " ['name: Alex Perez, nickname: N/A, age: 32, born: 1992.03.21, nationality: Hanford, California, United States, record: 25-9-0 (Win-Loss-Draw), earnings_$: $321,600 USD, height: 5\\'6\" (168cm), reach: 65.5\" (166cm), weight: 126.0 lbs, weight_class: Flyweight'],\n",
       " ['name: Manel Kape, nickname: Starboy, age: 30, born: 1993.11.14, nationality: Luanda, Angola, record: 19-7-0 (Win-Loss-Draw), earnings_$: $60,000 USD, height: 5\\'5\" (165cm), reach: 68.0\" (173cm), weight: 125.5 lbs, weight_class: Flyweight'],\n",
       " ['name: Steve Erceg, nickname: AstroBoy, age: 29, born: 1995.07.27, nationality: Australia, record: 12-3-0 (Win-Loss-Draw), earnings_$: $100,000 USD, height: 5\\'8\" (173cm), reach: 68.5\" (174cm), weight: 125.5 lbs, weight_class: Flyweight'],\n",
       " ['name: Matheus Nicolau, nickname: N/A, age: 31, born: 1993.01.06, nationality: Belo Horizonte, Minas Gerais, Brazil, record: 19-4-1 (Win-Loss-Draw), earnings_$: $96,000 USD, height: 5\\'6\" (168cm), reach: 66.0\" (168cm), weight: 125.5 lbs, weight_class: Flyweight'],\n",
       " ['name: Raquel Pennington, nickname: Rocky, age: 36, born: 1988.09.05, nationality: United States, record: 16-8-0 (Win-Loss-Draw), earnings_$: $391,000 USD, height: 5\\'7\" (170cm), reach: 67.5\" (171cm), weight: 134.8 lbs, weight_class: Bantamweight'],\n",
       " ['name: Irene Aldana, nickname: N/A, age: 36, born: 1988.03.26, nationality: Culiacan, Sinaloa, Mexico, record: 15-7-0 (Win-Loss-Draw), earnings_$: $360,400 USD, height: 5\\'9\" (175cm), reach: 68.5\" (174cm), weight: 136.0 lbs, weight_class: Bantamweight'],\n",
       " ['name: Kayla Harrison, nickname: N/A, age: 34, born: 1990.07.02, nationality: Middletown, Ohio, United States, record: 17-1-0 (Win-Loss-Draw), earnings_$: $625,000 USD, height: 5\\'8\" (173cm), reach: 66.0\" (168cm), weight: 136.0 lbs, weight_class: Bantamweight'],\n",
       " ['name: Julianna Peña, nickname: The Venezuelan Vixen, age: 35, born: 1989.08.19, nationality: United States, record: 10-5-0 (Win-Loss-Draw), earnings_$: $290,000 USD, height: 5\\'6\" (168cm), reach: 69.0\" (175cm), weight: 134.5 lbs, weight_class: Bantamweight'],\n",
       " ['name: Ketlen Vieira, nickname: Fenômeno, age: 33, born: 1991.08.26, nationality: Manaus, Amazonas, Brazil, record: 14-3-0 (Win-Loss-Draw), earnings_$: $113,000 USD, height: 5\\'8\" (173cm), reach: 68.0\" (173cm), weight: 135.0 lbs, weight_class: Bantamweight'],\n",
       " ['name: Macy Chiasson, nickname: N/A, age: 33, born: 1991.07.27, nationality: New Orleans, Louisiana, United States, record: 10-3-0 (Win-Loss-Draw), earnings_$: $230,000 USD, height: 5\\'11\" (180cm), reach: 72.0\" (183cm), weight: 135.5 lbs, weight_class: Bantamweight'],\n",
       " ['name: Holly Holm, nickname: The Preacher\\'s Daughter, age: 42, born: 1981.10.17, nationality: United States, record: 15-7-0 (Win-Loss-Draw), earnings_$: $1,600,000 USD, height: 5\\'8\" (173cm), reach: 69.0\" (175cm), weight: 136.0 lbs, weight_class: Bantamweight'],\n",
       " ['name: Mayra Bueno Silva, nickname: Sheetara, age: 33, born: 1991.08.22, nationality: Uberlandia, Minas Gerais, Brazil, record: 10-4-1, 1 NC (Win-Loss-Draw), earnings_$: $150,000 USD, height: 5\\'6\" (168cm), reach: 66.5\" (169cm), weight: 136.0 lbs, weight_class: Bantamweight'],\n",
       " ['name: Norma Dumont, nickname: The Immortal, age: 33, born: 1990.10.01, nationality: Belo Horizonte, Minas Gerais, Brazil, record: 11-2-0 (Win-Loss-Draw), earnings_$: $10,000 USD, height: 5\\'7\" (169cm), reach: 67.0\" (170cm), weight: 136.0 lbs, weight_class: Bantamweight'],\n",
       " ['name: Germaine de Randamie, nickname: The Iron Lady, age: 40, born: 1984.04.24, nationality: Utrecht, Netherlands, record: 10-5-0 (Win-Loss-Draw), earnings_$: $328,500 USD, height: 5\\'9\" (175cm), reach: 72.5\" (184cm), weight: 135.0 lbs, weight_class: Bantamweight'],\n",
       " ['name: Alexa Grasso, nickname: N/A, age: 31, born: 1993.08.09, nationality: Mexico, record: 16-3-1 (Win-Loss-Draw), earnings_$: $191,000 USD, height: 5\\'5\" (165cm), reach: 66.0\" (168cm), weight: 124.5 lbs, weight_class: Flyweight'],\n",
       " ['name: Valentina Shevchenko, nickname: Bullet, age: 36, born: 1988.03.07, nationality: Frunze, Bishkek, Kyrgyzstan, record: 23-4-1 (Win-Loss-Draw), earnings_$: $188,000 USD, height: 5\\'5\" (165cm), reach: 65.5\" (166cm), weight: 124.5 lbs, weight_class: Flyweight'],\n",
       " ['name: Manon Fiorot, nickname: The Beast, age: 34, born: 1990.02.17, nationality: Nice, France, record: 12-1-0 (Win-Loss-Draw), earnings_$: $80,000 USD, height: 5\\'7\" (169cm), reach: 66.0\" (168cm), weight: 125.3 lbs, weight_class: Flyweight'],\n",
       " ['name: Erin Blanchfield, nickname: Cold Blooded, age: 25, born: 1999.05.04, nationality: Elmwood Park, New Jersey, record: 12-2-0 (Win-Loss-Draw), earnings_$: $50,000 USD, height: 5\\'4\" (163cm), reach: 68.0\" (173cm), weight: 125.0 lbs, weight_class: Flyweight'],\n",
       " ['name: Maycee Barber, nickname: The Future, age: 26, born: 1998.05.18, nationality: United States, record: 14-2-0 (Win-Loss-Draw), earnings_$: $79,000 USD, height: 5\\'5\" (165cm), reach: 65.0\" (165cm), weight: 125.0 lbs, weight_class: Flyweight'],\n",
       " ['name: Katlyn Cerminara, nickname: Blonde Fighter, age: 35, born: 1988.12.28, nationality: Quakertown, Pennsylvania, record: 18-6-0 (Win-Loss-Draw), earnings_$: $170,000 USD, height: 5\\'9\" (175cm), reach: 68.0\" (173cm), weight: 125.0 lbs, weight_class: Flyweight'],\n",
       " ['name: Taila Santos, nickname: N/A, age: 31, born: 1993.06.22, nationality: Jaragua do Sul, Santa Catarina, Brazil, record: 22-3-0 (Win-Loss-Draw), earnings_$: $50,000 USD, height: 5\\'6\" (168cm), reach: 68.0\" (173cm), weight: 125.8 lbs, weight_class: Flyweight'],\n",
       " ['name: Rose Namajunas, nickname: Thug, age: 32, born: 1992.06.29, nationality: Milwaukee, Wisconsin, record: 13-6-0 (Win-Loss-Draw), earnings_$: $511,000 USD, height: 5\\'5\" (165cm), reach: 65.0\" (165cm), weight: 124.8 lbs, weight_class: Flyweight'],\n",
       " ['name: Natália Silva, nickname: N/A, age: 27, born: 1997.02.03, nationality: Pingo d’Água, Minas Gerais, Brazil, record: 18-5-1 (Win-Loss-Draw), earnings_$: $100,000 USD, height: 5\\'4\" (163cm), reach: 65.0\" (165cm), weight: 125.5 lbs, weight_class: Flyweight'],\n",
       " ['name: Karine Silva, nickname: Killer, age: 30, born: 1993.12.02, nationality: Nova Dourados, Mato Grosso do Sul, Brazil, record: 18-4-0 (Win-Loss-Draw), earnings_$: $50,000 USD, height: 5\\'5\" (165cm), reach: 67.0\" (170cm), weight: 125.5 lbs, weight_class: Flyweight'],\n",
       " ['name: Weili Zhang, nickname: Magnum, age: 35, born: 1989.08.13, nationality: Handan, Hebei, China, record: 25-3-0 (Win-Loss-Draw), earnings_$: $514,000 USD, height: 5\\'4\" (163cm), reach: 63.0\" (160cm), weight: 115.0 lbs, weight_class: Strawweight'],\n",
       " ['name: Xiaonan Yan, nickname: Nine, age: 35, born: 1989.06.16, nationality: Shenyang, Liaoning, China, record: 17-4-0, 1 NC (Win-Loss-Draw), earnings_$: $50,000 USD, height: 5\\'5\" (166cm), reach: 63.0\" (160cm), weight: 115.0 lbs, weight_class: Strawweight'],\n",
       " ['name: Virna Jandiroba, nickname: Carcará, age: 36, born: 1988.05.30, nationality: Brazil, record: 21-3-0 (Win-Loss-Draw), earnings_$: $112,000 USD, height: 5\\'3\" (160cm), reach: 64.0\" (163cm), weight: 115.5 lbs, weight_class: Strawweight'],\n",
       " ['name: Tatiana Suarez, nickname: N/A, age: 33, born: 1990.12.19, nationality: Covina, California, record: 10-0-0 (Win-Loss-Draw), earnings_$: $230,000 USD, height: 5\\'5\" (165cm), reach: 66.0\" (168cm), weight: 115.5 lbs, weight_class: Strawweight'],\n",
       " ['name: Amanda Lemos, nickname: Amandinha, age: 37, born: 1987.05.22, nationality: Brazil, record: 14-4-1 (Win-Loss-Draw), earnings_$: $150,000 USD, height: 5\\'4\" (163cm), reach: 65.0\" (165cm), weight: 116.0 lbs, weight_class: Strawweight'],\n",
       " ['name: Jéssica Andrade, nickname: Bate Estaca, age: 32, born: 1991.09.25, nationality: Umuarama, Parana, Brazil, record: 26-13-0 (Win-Loss-Draw), earnings_$: $792,000 USD, height: 5\\'1\" (156cm), reach: 62.0\" (157cm), weight: 124.5 lbs, weight_class: Flyweight'],\n",
       " ['name: Mackenzie Dern, nickname: N/A, age: 31, born: 1993.03.24, nationality: Phoenix, Arizona, record: 14-5-0 (Win-Loss-Draw), earnings_$: $366,000 USD, height: 5\\'4\" (163cm), reach: 63.0\" (160cm), weight: 115.5 lbs, weight_class: Strawweight'],\n",
       " ['name: Marina Rodriguez, nickname: N/A, age: 37, born: 1987.04.29, nationality: Bage, Rio Grande do Sul, Brazil, record: 17-4-2 (Win-Loss-Draw), earnings_$: $100,000 USD, height: 5\\'6\" (168cm), reach: 65.0\" (165cm), weight: 116.0 lbs, weight_class: Strawweight'],\n",
       " ['name: Carla Esparza, nickname: The Cookie Monster, age: 36, born: 1987.10.10, nationality: United States, record: 19-7-0 (Win-Loss-Draw), earnings_$: $594,000 USD, height: 5\\'1\" (155cm), reach: 63.0\" (160cm), weight: 114.6 lbs, weight_class: Strawweight'],\n",
       " ['name: Tabatha Ricci, nickname: Baby Shark, age: 29, born: 1995.02.21, nationality: Birigui, Sao Paulo, Brazil, record: 11-2-0 (Win-Loss-Draw), earnings_$: $0 USD, height: 5\\'1\" (155cm), reach: 61.0\" (155cm), weight: 115.0 lbs, weight_class: Strawweight'],\n",
       " ['name: Jillian DeCoursey, nickname: Lionheart, age: 40, born: 1984.07.26, nationality: New York, United States, record: 6-4-0 (Win-Loss-Draw), earnings_$: $2,000 USD, height: 5\\'2\" (157cm), reach: 63.0\" (160cm), weight: 104.8 lbs, weight_class: Atomweight'],\n",
       " ['name: Kanna Asakura, nickname: N/A, age: 26, born: 1997.10.12, nationality: Chiba, Japan, record: 20-7-0 (Win-Loss-Draw), earnings_$: $62,090 USD, height: 5\\'2\" (158cm), reach: 63.4\" (161cm), weight: 107.9 lbs, weight_class: Atomweight'],\n",
       " ['name: Seika Izawa, nickname: N/A, age: 26, born: 1997.11.01, nationality: Utsunomiya, Tochigi, Japan, record: 13-0-0 (Win-Loss-Draw), earnings_$: $0 USD, height: 5\\'2\" (157cm), reach: 64.0\" (163cm), weight: 107.0 lbs, weight_class: Atomweight'],\n",
       " ['name: Ayaka Hamasaki, nickname: N/A, age: 42, born: 1982.03.31, nationality: Sanyoonoda, Yamaguchi, Japan, record: 24-6-0 (Win-Loss-Draw), earnings_$: $22,000 USD, height: 5\\'1\" (155cm), reach: 63.0\" (160cm), weight: 108.0 lbs, weight_class: Atomweight'],\n",
       " ['name: Jeong Eun Park, nickname: Little Wolf, age: 27, born: 1996.09.17, nationality: Namyangju, South Korea, record: 9-7-1 (Win-Loss-Draw), earnings_$: $0 USD, height: 5\\'2\" (158cm), reach: N/A, weight: 106.5 lbs, weight_class: Atomweight'],\n",
       " ['name: Mina Kurobe, nickname: N/A, age: 47, born: 1977.05.02, nationality: Tokyo, Japan, record: 18-7-0 (Win-Loss-Draw), earnings_$: $0 USD, height: 5\\'2\" (158cm), reach: N/A, weight: 114.9 lbs, weight_class: Atomweight'],\n",
       " ['name: Saori Oshima, nickname: Little Giant, age: 29, born: 1994.11.14, nationality: Hamada, Shimane, Japan, record: 14-5-0 (Win-Loss-Draw), earnings_$: $0 USD, height: 4\\'11\" (149cm), reach: 57.1\" (145cm), weight: 104.6 lbs, weight_class: Atomweight'],\n",
       " ['name: Monique Adriane, nickname: N/A, age: 28, born: 1996.06.25, nationality: Brazil, record: 6-2-0 (Win-Loss-Draw), earnings_$: $0 USD, height: 5\\'3\" (160cm), reach: 65.0\" (165cm), weight: 105.5 lbs, weight_class: Atomweight'],\n",
       " ['name: Miyuu Yamamoto, nickname: Fighting Queen Bee, age: 50, born: 1974.08.04, nationality: Kawasaki, Kanagawa, Japan, record: 6-8-0 (Win-Loss-Draw), earnings_$: $0 USD, height: 5\\'1\" (156cm), reach: N/A, weight: 107.0 lbs, weight_class: Atomweight'],\n",
       " ['name: Anastasia Nikolakakos, nickname: Anniemale, age: 34, born: 1989.11.10, nationality: Canada, record: 5-0-0 (Win-Loss-Draw), earnings_$: $0 USD, height: 5\\'0\" (152cm), reach: 60.0\" (152cm), weight: 104.8 lbs, weight_class: Atomweight'],\n",
       " ['name: Cris Cyborg, nickname: N/A, age: 39, born: 1985.07.09, nationality: Curitiba, Parana, Brazil, record: 27-2-0, 1 NC (Win-Loss-Draw), earnings_$: $2,388,000 USD, height: 5\\'8\" (173cm), reach: 69.0\" (175cm), weight: 144.6 lbs, weight_class: Featherweight'],\n",
       " ['name: Cat Zingano, nickname: Alpha, age: 42, born: 1982.07.01, nationality: Broomfield, Colorado, United States, record: 14-5-0 (Win-Loss-Draw), earnings_$: $302,000 USD, height: 5\\'6\" (168cm), reach: 68.0\" (173cm), weight: 144.6 lbs, weight_class: Featherweight'],\n",
       " ['name: Larissa Pacheco, nickname: N/A, age: 30, born: 1994.09.07, nationality: Brazil, record: 23-4-0 (Win-Loss-Draw), earnings_$: $98,000 USD, height: 5\\'6\" (168cm), reach: 69.0\" (175cm), weight: 145.0 lbs, weight_class: Featherweight'],\n",
       " ['name: Arlene Blencowe, nickname: Angerfist, age: 41, born: 1983.04.11, nationality: Australia, record: 16-10-0 (Win-Loss-Draw), earnings_$: $48,000 USD, height: 5\\'6\" (168cm), reach: 64.5\" (164cm), weight: 145.4 lbs, weight_class: Featherweight'],\n",
       " ['name: Leah McCourt, nickname: The Curse, age: 32, born: 1992.06.21, nationality: Saintfield, Northern Ireland, record: 8-3-0 (Win-Loss-Draw), earnings_$: $0 USD, height: 5\\'10\" (178cm), reach: 69.0\" (175cm), weight: 146.0 lbs, weight_class: Featherweight'],\n",
       " ['name: Sinead Kavanagh, nickname: KO, age: 38, born: 1986.02.01, nationality: Ireland, record: 9-7-0 (Win-Loss-Draw), earnings_$: $0 USD, height: 5\\'7\" (170cm), reach: 68.0\" (173cm), weight: 146.0 lbs, weight_class: Featherweight'],\n",
       " ['name: Sara McMann, nickname: N/A, age: 43, born: 1980.09.24, nationality: Takoma Park, Maryland, United States, record: 14-7-0 (Win-Loss-Draw), earnings_$: $335,000 USD, height: 5\\'6\" (168cm), reach: 66.0\" (168cm), weight: 145.4 lbs, weight_class: Featherweight'],\n",
       " ['name: Julia Budd, nickname: The Jewel, age: 41, born: 1983.07.04, nationality: Roberts Creek, British Columbia, Canada, record: 17-6-0 (Win-Loss-Draw), earnings_$: $361,500 USD, height: 5\\'8\" (172cm), reach: 70.0\" (178cm), weight: 145.6 lbs, weight_class: Featherweight'],\n",
       " ['name: Aspen Ladd, nickname: N/A, age: 29, born: 1995.03.01, nationality: Pioneer, California, record: 12-5-0 (Win-Loss-Draw), earnings_$: $166,000 USD, height: 5\\'6\" (168cm), reach: 66.0\" (168cm), weight: 145.8 lbs, weight_class: Featherweight'],\n",
       " ['name: Marina Mokhnatkina, nickname: N/A, age: 36, born: 1988.05.12, nationality: Perm, Russia, record: 11-4-0 (Win-Loss-Draw), earnings_$: $32,000 USD, height: 5\\'6\" (168cm), reach: 66.0\" (168cm), weight: 144.0 lbs, weight_class: Featherweight']]"
      ]
     },
     "execution_count": 25,
     "metadata": {},
     "output_type": "execute_result"
    }
   ],
   "source": [
    "fighter_list"
   ]
  },
  {
   "cell_type": "code",
   "execution_count": 36,
   "metadata": {},
   "outputs": [],
   "source": [
    "with open('/Volumes/Dr Ive /Local Repo/WebScraWler/Data/top_10_fighters.csv', mode='w', newline='') as file:\n",
    "    writer = csv.writer(file)\n",
    "    writer.writerow(['name', 'nickname', 'age', 'born', 'nationality', 'record', 'earnings', 'height', 'reach', 'weight', 'weight_class'])\n",
    "\n",
    "    for fighter in fighter_list:\n",
    "        details = fighter[0].split(', ')\n",
    "        row = []\n",
    "        temp_string = \"\"\n",
    "        for detail in details:\n",
    "            if ': ' in detail and temp_string == \"\":\n",
    "                temp_string = detail.split(': ', 1)[1]\n",
    "            else:\n",
    "                if temp_string:\n",
    "                    temp_string += ', ' + detail\n",
    "                else:\n",
    "                    temp_string = detail\n",
    "\n",
    "            if temp_string and detail == details[-1]:  \n",
    "                row.append(temp_string.strip())\n",
    "                temp_string = \"\"\n",
    "\n",
    "        writer.writerow(row)\n"
   ]
  }
 ],
 "metadata": {
  "kernelspec": {
   "display_name": "base",
   "language": "python",
   "name": "python3"
  },
  "language_info": {
   "codemirror_mode": {
    "name": "ipython",
    "version": 3
   },
   "file_extension": ".py",
   "mimetype": "text/x-python",
   "name": "python",
   "nbconvert_exporter": "python",
   "pygments_lexer": "ipython3",
   "version": "3.12.2"
  }
 },
 "nbformat": 4,
 "nbformat_minor": 2
}
